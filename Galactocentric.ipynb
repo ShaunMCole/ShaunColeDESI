{
 "cells": [
  {
   "cell_type": "code",
   "execution_count": 2,
   "id": "8de965f3-beec-45ce-825a-7006afa81ab2",
   "metadata": {
    "tags": []
   },
   "outputs": [
    {
     "name": "stdout",
     "output_type": "stream",
     "text": [
      "<Table length=339693>\n",
      "    name         mean        std         min         max    \n",
      "------------ ----------- ----------- ----------- -----------\n",
      "      CATAID 1.77872e+06 1.95179e+06        6648 9.10013e+06\n",
      "          RA      190.91     86.0915     30.0452     352.396\n",
      "         DEC    -5.86577     12.0544    -35.4997      3.4998\n",
      "          NQ     3.99923    0.535127           2           5\n",
      "     Z_HELIO    0.254002     0.28539    -0.00967     7.02314\n",
      "        Z_LG     0.25361    0.285255  -0.0102599     7.01825\n",
      "       Z_CMB    0.254633    0.285685 -0.00848463     7.03287\n",
      "     Z_TONRY    0.254584    0.285728           0     7.03287\n",
      "Z_TONRY_HIGH    0.255315    0.285919           0     7.03769\n",
      " Z_TONRY_LOW    0.253878    0.285515           0     7.02805\n",
      " DM_70_30_70     36.7395     11.3548           0      49.204\n",
      "DM_100_30_70     36.0312     11.1406           0     48.4295\n",
      " DM_70_25_75     36.7587     11.3624           0     49.3397\n",
      "DM_100_25_75     36.0504     11.1483           0     48.5652\n"
     ]
    }
   ],
   "source": [
    "import numpy as np\n",
    "from scipy import stats\n",
    "from astropy.table import join,Table,Column,vstack\n",
    "\n",
    "dat = Table.read('DistancesFramesv14.fits')\n",
    "\n",
    "dat.info('stats')\n",
    "  \n",
    "\n"
   ]
  },
  {
   "cell_type": "code",
   "execution_count": 3,
   "id": "e6c8556e-f250-4298-9e6d-0d58979d9a59",
   "metadata": {
    "tags": []
   },
   "outputs": [],
   "source": [
    "def  z_tozLG(dat):\n",
    "    \"\"\"Transform redshift from Heliocentric to Local Group velocity frame.\n",
    "    \"\"\"\n",
    "    \n",
    "    #Velocity of the sun baryocentre in the Local Group Frame\n",
    "    v_LG=316.0 # km/s  NED and AJ 111, 794, 1996\n",
    "    RA_LG=np.deg2rad(325.371)  # l=93deg b=-4deg also from NED converted to RA,DEC by NED\n",
    "    DEC_LG=np.deg2rad(47.527)\n",
    "    #Projection of this velocity along object RA and dec np.deg2rad(\n",
    "    v_proj=v_LG*(np.sin(np.deg2rad(dat['DEC']))*np.sin(DEC_LG)+np.cos(np.deg2rad(dat['DEC']))*np.cos(DEC_LG)*np.cos(np.deg2rad(dat['RA'])-RA_LG))\n",
    "    #Compute chnage to redshift and compare to value given in GAMA catalogue\n",
    "    dat.add_column(Column(name='ZLG', data= (1.0+dat['Z_HELIO'])*(1.0+v_proj/(299792.458))-1.0 ))\n",
    "    dat.add_column(Column(name='Zdiff', data=(dat['ZLG']-dat['Z_LG'])))\n",
    "    return"
   ]
  },
  {
   "cell_type": "code",
   "execution_count": 4,
   "id": "68491849-2a67-45bc-a879-a26afb090914",
   "metadata": {
    "tags": []
   },
   "outputs": [
    {
     "name": "stdout",
     "output_type": "stream",
     "text": [
      "<Table length=339693>\n",
      "    name         mean         std         min          max    \n",
      "------------ ------------ ----------- ------------ -----------\n",
      "      CATAID  1.77872e+06 1.95179e+06         6648 9.10013e+06\n",
      "          RA       190.91     86.0915      30.0452     352.396\n",
      "         DEC     -5.86577     12.0544     -35.4997      3.4998\n",
      "          NQ      3.99923    0.535127            2           5\n",
      "     Z_HELIO     0.254002     0.28539     -0.00967     7.02314\n",
      "        Z_LG      0.25361    0.285255   -0.0102599     7.01825\n",
      "       Z_CMB     0.254633    0.285685  -0.00848463     7.03287\n",
      "     Z_TONRY     0.254584    0.285728            0     7.03287\n",
      "Z_TONRY_HIGH     0.255315    0.285919            0     7.03769\n",
      " Z_TONRY_LOW     0.253878    0.285515            0     7.02805\n",
      " DM_70_30_70      36.7395     11.3548            0      49.204\n",
      "DM_100_30_70      36.0312     11.1406            0     48.4295\n",
      " DM_70_25_75      36.7587     11.3624            0     49.3397\n",
      "DM_100_25_75      36.0504     11.1483            0     48.5652\n",
      "         ZLG     0.253599    0.285252    -0.010276     7.01805\n",
      "       Zdiff -1.13969e-05 7.24557e-05 -0.000716491 0.000393575\n"
     ]
    }
   ],
   "source": [
    "z_tozLG(dat)\n",
    "dat.info('stats')"
   ]
  },
  {
   "cell_type": "code",
   "execution_count": null,
   "id": "a5d47610-dfd2-4492-9100-55584a9b1a6f",
   "metadata": {
    "tags": []
   },
   "outputs": [],
   "source": [
    "def z_to_gsr(dat, v_sun=None):\n",
    "    \"\"\"Transform a barycentric redshift to the Galactic Standard of Rest\n",
    "    (GSR).\n",
    "\n",
    "    \"\"\"\n",
    "    if v_sun is None:\n",
    "        v_sun = coord.Galactocentric().galcen_v_sun.to_cartesian()\n",
    "   \n",
    "    \n",
    "    #dummy distance and proper motion arrays\n",
    "    dis=np.ones(dat['Z'].size)\n",
    "    pm=np.zeros(dat['Z'].size)\n",
    "    v_r=np.zeros(dat['Z'].size)# zero radial velocity and proper motion is important\n",
    "    \n",
    "    # Use RA and Dec to set up a coordinates in the ICRS frame\n",
    "    c = coord.SkyCoord(\n",
    "    ra=dat['RA'] * u.degree,\n",
    "    dec=dat['DEC'] * u.degree,\n",
    "    distance=dis * u.pc,\n",
    "    pm_ra_cosdec=pm * u.mas / u.yr,\n",
    "    pm_dec=pm* u.mas / u.yr,\n",
    "    radial_velocity=v_r * u.km / u.s,\n",
    "    frame=\"icrs\",\n",
    ")\n",
    "    \n",
    "        \n",
    "    # convert to galactic coordinates    \n",
    "    gal = c.transform_to(coord.Galactic)\n",
    "    cart_data = gal.data.to_cartesian()\n",
    "    unit_vector = cart_data / cart_data.norm()\n",
    "\n",
    "    #\n",
    "    v_proj = v_sun.dot(unit_vector) # projection of suns' velocity in galactocentric frame along object direction\n",
    "    # compute effect on redshift\n",
    "    dat.add_column(Column(name='Zgal', data= (1.0+dat['Z'])*(1.0+v_proj/(299792.458 * u.km / u.s))-1.0 ))\n",
    "    return \n",
    "\n"
   ]
  },
  {
   "cell_type": "code",
   "execution_count": null,
   "id": "b09eaeba-e74f-4275-b6f1-86a9da1e0bde",
   "metadata": {
    "tags": []
   },
   "outputs": [],
   "source": [
    "z_to_gsr(dat)"
   ]
  },
  {
   "cell_type": "code",
   "execution_count": null,
   "id": "48ef3b94-59a8-4f41-829a-9a5611e30d8c",
   "metadata": {
    "tags": []
   },
   "outputs": [],
   "source": [
    "dat.info('stats')"
   ]
  },
  {
   "cell_type": "code",
   "execution_count": null,
   "id": "50b6996a-b4a5-471a-9314-dbf740296606",
   "metadata": {
    "tags": []
   },
   "outputs": [],
   "source": []
  },
  {
   "cell_type": "code",
   "execution_count": null,
   "id": "2b82434b-ab91-40c0-9d62-84ba216c6a18",
   "metadata": {},
   "outputs": [],
   "source": []
  }
 ],
 "metadata": {
  "kernelspec": {
   "display_name": "DESI master",
   "language": "python",
   "name": "desi-master"
  },
  "language_info": {
   "codemirror_mode": {
    "name": "ipython",
    "version": 3
   },
   "file_extension": ".py",
   "mimetype": "text/x-python",
   "name": "python",
   "nbconvert_exporter": "python",
   "pygments_lexer": "ipython3",
   "version": "3.10.14"
  }
 },
 "nbformat": 4,
 "nbformat_minor": 5
}
